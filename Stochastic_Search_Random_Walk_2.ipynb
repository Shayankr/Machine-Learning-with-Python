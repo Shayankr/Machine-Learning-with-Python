{
 "cells": [
  {
   "cell_type": "markdown",
   "id": "a9a03b23",
   "metadata": {},
   "source": [
    "# <center>Stochastic Search Optimization Problem using Random Walk Concept with-in a Constrained Search Space"
   ]
  },
  {
   "cell_type": "markdown",
   "id": "7c269efe",
   "metadata": {},
   "source": [
    "[UPdate Code from Previous Jupyter Notebook](https://github.com/Shayankr/Machine-Learning-with-Python/blob/main/Stochastic_Search_Random_Walk.ipynb) Here I have used more optimized concept with same constrained criteria."
   ]
  },
  {
   "cell_type": "markdown",
   "id": "e62d748c",
   "metadata": {},
   "source": [
    "## Here, I am generating \"k\" no. of points around each initial solution points (no_of_points) and then finally choosing -- that one point-- which is most optimum."
   ]
  },
  {
   "cell_type": "code",
   "execution_count": 1,
   "id": "7dbadcaf",
   "metadata": {},
   "outputs": [
    {
     "name": "stdout",
     "output_type": "stream",
     "text": [
      "Best solution: (1, 2)\n",
      "The value of objective function at given initial popluation or solution sets are: [12, -3, 8, 29, 0]\n",
      "The value of the objective function at best solution is: -3\n"
     ]
    }
   ],
   "source": [
    "import random\n",
    "import numpy as np\n",
    "\n",
    "def objective_function(x):\n",
    "    x1, x2 = x\n",
    "    # Define your objective function here\n",
    "    return -(5-(x1-2)**2-(x2-3)**2)\n",
    "\n",
    "def random_walk(obj_func, population, number_of_generations, step_size, fitness_threshold, x_min, x_max,k):\n",
    "    best_fitness = float(\"inf\")\n",
    "    best_solution = None\n",
    "    \n",
    "#     # Generate the initial solutions\n",
    "#     initial_solutions = []\n",
    "#     for i in range(k):\n",
    "#         x1 = random.uniform(x_min[0], x_max[0])\n",
    "#         x2 = random.uniform(x_min[1], x_max[1])\n",
    "#         initial_solutions.append((x1, x2))\n",
    "    \n",
    "    # Evaluate the fitness of the initial population\n",
    "    fitness_scores = np.array([obj_func(x) for x in population])\n",
    "    fitness_scores = fitness_scores-min(fitness_scores)  # making fitness value non-negative\n",
    "    fitness_scores = fitness_scores/sum(fitness_scores)   # Normalize the fitness value\n",
    "    \n",
    "    # Main loop\n",
    "    for i in range(number_of_generations):\n",
    "        # Update the best solution if a better one is found\n",
    "        best_index = np.argmin(fitness_scores)\n",
    "        if fitness_scores[best_index] < best_fitness:\n",
    "            best_fitness = fitness_scores[best_index]\n",
    "            best_solution = population[best_index]\n",
    "        \n",
    "        # Terminate the loop if the fitness threshold is reached\n",
    "        if best_fitness <= fitness_threshold:\n",
    "            break\n",
    "        \n",
    "        # Generate a new population by adding a random step to each solution\n",
    "        new_population = []\n",
    "        for x in population:\n",
    "            x1=[]\n",
    "            x2=[]\n",
    "            for j in range(k):\n",
    "                new_x1 = x[0] + random.uniform(-step_size, step_size)\n",
    "                new_x2 = x[1] + random.uniform(-step_size, step_size)\n",
    "                if ((x_min<=new_x1 and new_x1<=x_max) and (x_min<=new_x1<=x_max)):\n",
    "                    x1.append(new_x1)\n",
    "                    x2.append(new_x2)\n",
    "                else:\n",
    "                    continue\n",
    "            # now find the best value among newly generated pointa/solution sets around a particular previous solution point\n",
    "            for p,q in zip(x1,x2):\n",
    "                if objective_function((p,q))<objective_function(x):\n",
    "                    x=(p,q)\n",
    "                else:\n",
    "                    pass\n",
    "            # Now, I got the best solution point around a previous point among newly generated points\n",
    "            # now go for the next previous point and repeat the same procedure.\n",
    "            \n",
    "            # Ensure that the new solution is within the search space\n",
    "#             new_x1 = max(x_min[0], min(x_max[0], new_x1))\n",
    "#             new_x2 = max(x_min[1], min(x_max[1], new_x2))\n",
    "            \n",
    "#             new_population.append((new_x1, new_x2))\n",
    "            new_population.append(x)\n",
    "            \n",
    "\n",
    "            \n",
    "        population = new_population\n",
    "        \n",
    "        # Evaluate the fitness of the new population\n",
    "        fitness_scores = np.array([obj_func(x) for x in population])\n",
    "        fitness_scores = fitness_scores-min(fitness_scores)\n",
    "        fitness_scores = fitness_scores/sum(fitness_scores)\n",
    "    \n",
    "    return best_solution\n",
    "\n",
    "# Define the initial population\n",
    "initial_population = [(-2, 2), (1, 2), (0, 0), (-1, -2), (3, 1)]\n",
    "\n",
    "# Define the search space boundaries\n",
    "x_min = (-3, -5)\n",
    "x_max = (2, 4)\n",
    "\n",
    "result = random_walk(objective_function, initial_population, number_of_generations=1000, step_size=0.4, fitness_threshold=1e-6, x_min=x_min, x_max=x_max, k=1000)\n",
    "print(\"Best solution:\", result)\n",
    "print(f\"The value of objective function at given initial popluation or solution sets are: {[objective_function(i) for i in initial_population]}\")\n",
    "print(f\"The value of the objective function at best solution is: {objective_function(result)}\")"
   ]
  },
  {
   "cell_type": "code",
   "execution_count": 2,
   "id": "81e8285f",
   "metadata": {},
   "outputs": [],
   "source": [
    "# import random\n",
    "# random.seed(seed)"
   ]
  },
  {
   "cell_type": "code",
   "execution_count": 3,
   "id": "6602c451",
   "metadata": {},
   "outputs": [
    {
     "data": {
      "text/plain": [
       "0.06235593491078084"
      ]
     },
     "execution_count": 3,
     "metadata": {},
     "output_type": "execute_result"
    }
   ],
   "source": [
    "random.uniform(0,1)"
   ]
  },
  {
   "cell_type": "code",
   "execution_count": 4,
   "id": "eb100e6d",
   "metadata": {},
   "outputs": [
    {
     "data": {
      "text/plain": [
       "1"
      ]
     },
     "execution_count": 4,
     "metadata": {},
     "output_type": "execute_result"
    }
   ],
   "source": [
    "list_=[1,0,5,4]\n",
    "np.argmin(list_)"
   ]
  },
  {
   "cell_type": "markdown",
   "id": "2833c387",
   "metadata": {},
   "source": [
    "### Generating k random initial points instead of "
   ]
  },
  {
   "cell_type": "code",
   "execution_count": 5,
   "id": "343ba815",
   "metadata": {},
   "outputs": [
    {
     "name": "stdout",
     "output_type": "stream",
     "text": [
      "Best solution: (1.9763250682900022, 3.0172783147874664)\n",
      "The value of the objective function at best solution is: -4.999140957446632\n"
     ]
    }
   ],
   "source": [
    "import random\n",
    "import numpy as np\n",
    "\n",
    "def objective_function(x):\n",
    "    x1, x2 = x\n",
    "    # Define your objective function here\n",
    "    return -(5-(x1-2)**2-(x2-3)**2)\n",
    "\n",
    "def random_walk(obj_func, number_of_generations, step_size, fitness_threshold, x_min, x_max,no_of_points,k,seed=None):\n",
    "    random.seed(seed)\n",
    "    \n",
    "    best_fitness = float(\"inf\")\n",
    "    best_solution = None\n",
    "    \n",
    "    # Generate the initial solutions\n",
    "    initial_solutions = []\n",
    "    for i in range(no_of_points):\n",
    "        x1 = random.uniform(x_min[0], x_max[0])\n",
    "        x2 = random.uniform(x_min[1], x_max[1])\n",
    "        initial_solutions.append((x1, x2))\n",
    "    \n",
    "    # Evaluate the fitness of the initial population\n",
    "    fitness_scores = np.array([obj_func(x) for x in initial_solutions])\n",
    "    fitness_scores = fitness_scores-min(fitness_scores)  # making fitness value non-negative\n",
    "    fitness_scores = fitness_scores/sum(fitness_scores)   # Normalize the fitness value\n",
    "    \n",
    "    # Main loop\n",
    "    for i in range(number_of_generations):\n",
    "        # Update the best solution if a better one is found\n",
    "        best_index = np.argmin(fitness_scores)\n",
    "        if fitness_scores[best_index] < best_fitness:\n",
    "            best_fitness = fitness_scores[best_index]\n",
    "            best_solution = initial_solutions[best_index]\n",
    "        \n",
    "        # Terminate the loop if the fitness threshold is reached\n",
    "        if best_fitness <= fitness_threshold:\n",
    "            break\n",
    "        \n",
    "        # Generate a new population by adding a random step to each solution\n",
    "        new_population = []\n",
    "        for x in initial_solutions:\n",
    "            x1=[]\n",
    "            x2=[]\n",
    "            for j in range(k):\n",
    "                new_x1 = x[0] + random.uniform(-step_size, step_size)\n",
    "                new_x2 = x[1] + random.uniform(-step_size, step_size)\n",
    "                if ((x_min<=new_x1 and new_x1<=x_max) and (x_min<=new_x1<=x_max)):\n",
    "                    x1.append(new_x1)\n",
    "                    x2.append(new_x2)\n",
    "                else:\n",
    "                    continue\n",
    "            # now find the best value among newly generated pointa/solution sets around a particular previous solution point\n",
    "            for p,q in zip(x1,x2):\n",
    "                if objective_function((p,q))<objective_function(x):\n",
    "                    x=(p,q)\n",
    "                else:\n",
    "                    pass\n",
    "            # Now, I got the best solution point around a previous point among newly generated points\n",
    "            # now go for the next previous point and repeat the same procedure.\n",
    "            \n",
    "            # Ensure that the new solution is within the search space\n",
    "#             new_x1 = max(x_min[0], min(x_max[0], new_x1))\n",
    "#             new_x2 = max(x_min[1], min(x_max[1], new_x2))\n",
    "            \n",
    "#             new_population.append((new_x1, new_x2))\n",
    "            new_population.append(x)\n",
    "\n",
    "            \n",
    "        initial_solutions = new_population\n",
    "        \n",
    "        # Evaluate the fitness of the new population\n",
    "        fitness_scores = np.array([obj_func(x) for x in population])\n",
    "        fitness_scores = fitness_scores-min(fitness_scores)\n",
    "        fitness_scores = fitness_scores/sum(fitness_scores)\n",
    "    \n",
    "    return best_solution\n",
    "\n",
    "# # Define the initial population\n",
    "# initial_population = [(-2, 2), (1, 2), (0, 0), (-1, -2), (3, 1)]\n",
    "\n",
    "# Define the search space boundaries\n",
    "x_min = (-3, -5)\n",
    "x_max = (2, 4)\n",
    "\n",
    "result = random_walk(objective_function, number_of_generations=1000, step_size=0.2, fitness_threshold=1e-6, x_min=x_min, x_max=x_max,no_of_points=80, k=79, seed=123)\n",
    "print(\"Best solution:\", result)\n",
    "# print(f\"The value of objective function at given initial popluation or solution sets are: {[objective_function(i) for i in initial_population]}\")\n",
    "print(f\"The value of the objective function at best solution is: {objective_function(result)}\")"
   ]
  },
  {
   "cell_type": "markdown",
   "id": "ac0ac225",
   "metadata": {},
   "source": [
    "#### In above code:"
   ]
  },
  {
   "cell_type": "markdown",
   "id": "297e0726",
   "metadata": {},
   "source": [
    "### By choosing 80 initial points and 79 points around each initial points then selecting 1(one) best among 79 points to consider into next generations....achieve best solution: [-4.999140957446632]"
   ]
  },
  {
   "cell_type": "code",
   "execution_count": null,
   "id": "448d5331",
   "metadata": {},
   "outputs": [],
   "source": []
  }
 ],
 "metadata": {
  "kernelspec": {
   "display_name": "Python 3 (ipykernel)",
   "language": "python",
   "name": "python3"
  },
  "language_info": {
   "codemirror_mode": {
    "name": "ipython",
    "version": 3
   },
   "file_extension": ".py",
   "mimetype": "text/x-python",
   "name": "python",
   "nbconvert_exporter": "python",
   "pygments_lexer": "ipython3",
   "version": "3.9.13"
  }
 },
 "nbformat": 4,
 "nbformat_minor": 5
}
